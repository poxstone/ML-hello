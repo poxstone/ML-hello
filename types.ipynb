{
 "cells": [
  {
   "cell_type": "code",
   "execution_count": 4,
   "metadata": {},
   "outputs": [
    {
     "output_type": "stream",
     "name": "stdout",
     "text": "version\n1.15.2\n"
    }
   ],
   "source": [
    "import tensorflow as tf\n",
    "\n",
    "print(tf.__version__)\n",
    "\n",
    "entero = tf.Variable(5, tf.int32)\n",
    "puntoflotante = tf.Variable(4.989787328, tf.float32)\n",
    "\n",
    "#vector\n",
    "cadena = tf.string_join([\"Me\", \"llamo\", \"Bartolo\"])\n",
    "vectorEnteros = tf.Variable([1,2,3,4,5], tf.int16)\n",
    "\n",
    "# matrices al menos 2 dimesiones\n",
    "matrizEnteros = tf.Variable([[7,5,4],[1,2,3]], tf.int32)\n",
    "matrizfoat = tf.Variable([[1.1,1.2,1.3],[1.1,1.2,1.3]], tf.int32)\n",
    "matrizString = tf.Variable([[\"Hola\", \"me\", \"llamo\"],[\"pepe\",\"el\", \"programaor\"]], tf.string)\n",
    "\n"
   ]
  },
  {
   "cell_type": "code",
   "execution_count": 24,
   "metadata": {},
   "outputs": [
    {
     "output_type": "stream",
     "name": "stdout",
     "text": "[1 2 3 4 5]\n[[7 5 4]\n [1 2 3]]\n[[b'Hola' b'me' b'llamo' b'el' b'programador']]\n"
    }
   ],
   "source": [
    "import tensorflow as tf\n",
    "\n",
    "# entero\n",
    "enteroVector = tf.constant([1,2,3,4,5])\n",
    "matriz = tf.constant([[7,5,4],[1,2,3]])\n",
    "matrizcadenas = tf.constant([ [\"Hola\", \"me\", \"llamo\", \"el\", \"programador\"] ], tf.string)\n",
    "\n",
    "with tf.Session() as s:\n",
    "    print(s.run(enteroVector))\n",
    "    print(s.run(matriz))\n",
    "    print(s.run(matrizcadenas))"
   ]
  }
 ],
 "metadata": {
  "kernelspec": {
   "display_name": "Python 3.7.3 64-bit ('venv': venv)",
   "language": "python",
   "name": "python37364bitvenvvenv46557be9357345599a77451740dbdd4a"
  },
  "language_info": {
   "codemirror_mode": {
    "name": "ipython",
    "version": 3
   },
   "file_extension": ".py",
   "mimetype": "text/x-python",
   "name": "python",
   "nbconvert_exporter": "python",
   "pygments_lexer": "ipython3",
   "version": "3.7.3-final"
  }
 },
 "nbformat": 4,
 "nbformat_minor": 4
}