{
 "cells": [
  {
   "cell_type": "code",
   "execution_count": null,
   "metadata": {},
   "outputs": [],
   "source": [
    "import tensorflow as tf\n",
    "\n",
    "print(tf.__version__)\n",
    "\n",
    "entero = tf.Variable(5, tf.int32)\n",
    "puntoflotante = tf.Variable(4.989787328, tf.float32)\n",
    "\n",
    "#vector\n",
    "cadena = tf.string_join([\"Me\", \"llamo\", \"Bartolo\"])\n",
    "vectorEnteros = tf.Variable([1,2,3,4,5], tf.int16)\n",
    "\n",
    "# matrices al menos 2 dimesiones\n",
    "matrizEnteros = tf.Variable([[7,5,4],[1,2,3]], tf.int32)\n",
    "matrizfoat = tf.Variable([[1.1,1.2,1.3],[1.1,1.2,1.3]], tf.int32)\n",
    "matrizString = tf.Variable([[\"Hola\", \"me\", \"llamo\"],[\"pepe\",\"el\", \"programaor\"]], tf.string)\n",
    "\n"
   ]
  },
  {
   "cell_type": "code",
   "execution_count": null,
   "metadata": {},
   "outputs": [],
   "source": [
    "import tensorflow as tf\n",
    "\n",
    "# entero\n",
    "enteroVector = tf.constant([1,2,3,4,5])\n",
    "matriz = tf.constant([[7,5,4],[1,2,3]])\n",
    "matrizcadenas = tf.constant([ [\"Hola\", \"me\", \"llamo\", \"el\", \"programador\"] ], tf.string)\n",
    "\n",
    "with tf.Session() as s:\n",
    "    print(s.run(enteroVector))\n",
    "    print(s.run(matriz))\n",
    "    print(s.run(matrizcadenas))"
   ]
  },
  {
   "cell_type": "code",
   "execution_count": null,
   "metadata": {},
   "outputs": [],
   "source": [
    "from __future__ import print_function\n",
    "\n",
    "#%tensorflow_version 1.x\n",
    "import tensorflow as tf\n",
    "try:\n",
    "  tf.contrib.eager.enable_eager_execution()\n",
    "except ValueError:\n",
    "  pass  # enable_eager_execution errors after its first call\n",
    "\n",
    "tensor = tf.constant('Hello, world!')\n",
    "tensor_value = tensor.numpy()\n",
    "print(tensor_value.decode())"
   ]
  },
  {
   "cell_type": "code",
   "execution_count": null,
   "metadata": {},
   "outputs": [],
   "source": [
    "[x for x in ['a',1,2]]"
   ]
  }
 ],
 "metadata": {
  "kernelspec": {
   "display_name": "Python 3.7.3 64-bit ('venv': venv)",
   "language": "python",
   "name": "python37364bitvenvvenv20bb954539d849d1b76f98c9899b5675"
  },
  "language_info": {
   "codemirror_mode": {
    "name": "ipython",
    "version": 3
   },
   "file_extension": ".py",
   "mimetype": "text/x-python",
   "name": "python",
   "nbconvert_exporter": "python",
   "pygments_lexer": "ipython3",
   "version": "3.7.3-final"
  }
 },
 "nbformat": 4,
 "nbformat_minor": 4
}