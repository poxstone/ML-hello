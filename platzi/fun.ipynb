{
 "cells": [
  {
   "cell_type": "code",
   "execution_count": 9,
   "metadata": {},
   "outputs": [],
   "source": [
    "# combinacion lineal\n",
    "\n",
    "def graficarVectores(vecs, cols, alpha=1):\n",
    "    plt.figure()\n",
    "    plt.axvline(x=0, color='grey', zorder=0)\n",
    "    plt.axhline(y=0, color='grey', zorder=0)\n",
    "\n",
    "    for i in range(len(vecs)):\n",
    "        x = np.concatenate([[0,0], vecs[i]])\n",
    "        plt.quiver(\n",
    "                    [x[0]],\n",
    "                    [x[1]],\n",
    "                    [x[2]],\n",
    "                    [x[3]],\n",
    "                    angles='xy', scale_units='xy', scale=1,\n",
    "                    color=cols[i],\n",
    "                    alpha=alpha\n",
    "                   )"
   ]
  },
  {
   "cell_type": "code",
   "execution_count": 11,
   "metadata": {},
   "outputs": [],
   "source": [
    "# combinacion lineal\n",
    "#%matplotlib inline\n",
    "#import numpy as np\n",
    "#import matplotlib.pyplot as plt\n",
    "#\n",
    "#v1 = np.array([2,5])\n",
    "#v2 = np.array([3,2])\n",
    "#\n",
    "#\n",
    "#graficarVectores([v1, v2], ['orange', 'blue'])\n",
    "#\n",
    "#plt.xlim(-1, 8)\n",
    "#plt.ylim(-1, 8)\n"
   ]
  },
  {
   "cell_type": "code",
   "execution_count": null,
   "metadata": {},
   "outputs": [],
   "source": []
  }
 ],
 "metadata": {
  "language_info": {
   "codemirror_mode": {
    "name": "ipython",
    "version": 2
   },
   "file_extension": ".py",
   "mimetype": "text/x-python",
   "name": "python",
   "nbconvert_exporter": "python",
   "pygments_lexer": "ipython2",
   "version": "3.7.3-final"
  },
  "orig_nbformat": 2,
  "kernelspec": {
   "name": "python37364bitvenvvenv46557be9357345599a77451740dbdd4a",
   "display_name": "Python 3.7.3 64-bit ('venv': venv)"
  }
 },
 "nbformat": 4,
 "nbformat_minor": 2
}