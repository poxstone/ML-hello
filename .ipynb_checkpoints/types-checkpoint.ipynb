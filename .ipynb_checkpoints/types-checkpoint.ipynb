{
 "cells": [
  {
   "cell_type": "code",
   "execution_count": 8,
   "metadata": {},
   "outputs": [],
   "source": [
    "import tensorflow as tf\n",
    "\n",
    "entero = tf.Variable(5, tf.int32)\n",
    "puntoflotante = tf.Variable(4.989787328, tf.float32)\n",
    "\n",
    "#vector\n",
    "cadena = tf.string_join([\"Me\", \"llamo\", \"Bartolo\"])\n",
    "vectorEnteros = tf.Variable([1,2,3,4,5], tf.int16)\n",
    "\n",
    "# matrices al menos 2 dimesiones\n",
    "matrizEnteros = tf.Variable([[7,5,4],[1,2,3]], tf.int32)\n",
    "matrizfoat = tf.Variable([[1.1,1.2,1.3],[1.1,1.2,1.3]], tf.int32)\n",
    "matrizString = tf.Variable([[\"Hola\", \"me\", \"llamo\"],[\"pepe\",\"el\", \"programaor\"]], tf.string)\n"
   ]
  },
  {
   "cell_type": "code",
   "execution_count": null,
   "metadata": {},
   "outputs": [],
   "source": []
  }
 ],
 "metadata": {
  "kernelspec": {
   "display_name": "Python 3",
   "language": "python",
   "name": "python3"
  },
  "language_info": {
   "codemirror_mode": {
    "name": "ipython",
    "version": 3
   },
   "file_extension": ".py",
   "mimetype": "text/x-python",
   "name": "python",
   "nbconvert_exporter": "python",
   "pygments_lexer": "ipython3",
   "version": "3.7.3"
  }
 },
 "nbformat": 4,
 "nbformat_minor": 4
}
