{
 "cells": [
  {
   "cell_type": "code",
   "execution_count": 5,
   "metadata": {},
   "outputs": [
    {
     "output_type": "execute_result",
     "data": {
      "text/html": "<div>\n<style scoped>\n    .dataframe tbody tr th:only-of-type {\n        vertical-align: middle;\n    }\n\n    .dataframe tbody tr th {\n        vertical-align: top;\n    }\n\n    .dataframe thead th {\n        text-align: right;\n    }\n</style>\n<table border=\"1\" class=\"dataframe\">\n  <thead>\n    <tr style=\"text-align: right;\">\n      <th></th>\n      <th>City name</th>\n      <th>Population</th>\n      <th>ages</th>\n    </tr>\n  </thead>\n  <tbody>\n    <tr>\n      <th>0</th>\n      <td>San Francisco</td>\n      <td>852469</td>\n      <td>12</td>\n    </tr>\n    <tr>\n      <th>1</th>\n      <td>San Jose</td>\n      <td>1015785</td>\n      <td>22</td>\n    </tr>\n    <tr>\n      <th>2</th>\n      <td>Sacramento</td>\n      <td>485199</td>\n      <td>35</td>\n    </tr>\n  </tbody>\n</table>\n</div>",
      "text/plain": "       City name  Population  ages\n0  San Francisco      852469    12\n1       San Jose     1015785    22\n2     Sacramento      485199    35"
     },
     "metadata": {},
     "execution_count": 5
    }
   ],
   "source": [
    "from __future__ import print_function\n",
    "\n",
    "import pandas as pd\n",
    "pd.__version__\n",
    "\n",
    "\n",
    "#pd.Series(['San Francisco', 'San Jose', 'Sacramento'])\n",
    "city_names = pd.Series(['San Francisco', 'San Jose', 'Sacramento'])\n",
    "population = pd.Series([852469, 1015785, 485199])\n",
    "\n",
    "pd.DataFrame({ 'City name': city_names, 'Population': population })"
   ]
  },
  {
   "cell_type": "code",
   "execution_count": 9,
   "metadata": {},
   "outputs": [
    {
     "output_type": "execute_result",
     "data": {
      "text/html": "<div>\n<style scoped>\n    .dataframe tbody tr th:only-of-type {\n        vertical-align: middle;\n    }\n\n    .dataframe tbody tr th {\n        vertical-align: top;\n    }\n\n    .dataframe thead th {\n        text-align: right;\n    }\n</style>\n<table border=\"1\" class=\"dataframe\">\n  <thead>\n    <tr style=\"text-align: right;\">\n      <th></th>\n      <th>longitude</th>\n      <th>latitude</th>\n      <th>housing_median_age</th>\n      <th>total_rooms</th>\n      <th>total_bedrooms</th>\n      <th>population</th>\n      <th>households</th>\n      <th>median_income</th>\n      <th>median_house_value</th>\n    </tr>\n  </thead>\n  <tbody>\n    <tr>\n      <th>count</th>\n      <td>17000.000000</td>\n      <td>17000.000000</td>\n      <td>17000.000000</td>\n      <td>17000.000000</td>\n      <td>17000.000000</td>\n      <td>17000.000000</td>\n      <td>17000.000000</td>\n      <td>17000.000000</td>\n      <td>17000.000000</td>\n    </tr>\n    <tr>\n      <th>mean</th>\n      <td>-119.562108</td>\n      <td>35.625225</td>\n      <td>28.589353</td>\n      <td>2643.664412</td>\n      <td>539.410824</td>\n      <td>1429.573941</td>\n      <td>501.221941</td>\n      <td>3.883578</td>\n      <td>207300.912353</td>\n    </tr>\n    <tr>\n      <th>std</th>\n      <td>2.005166</td>\n      <td>2.137340</td>\n      <td>12.586937</td>\n      <td>2179.947071</td>\n      <td>421.499452</td>\n      <td>1147.852959</td>\n      <td>384.520841</td>\n      <td>1.908157</td>\n      <td>115983.764387</td>\n    </tr>\n    <tr>\n      <th>min</th>\n      <td>-124.350000</td>\n      <td>32.540000</td>\n      <td>1.000000</td>\n      <td>2.000000</td>\n      <td>1.000000</td>\n      <td>3.000000</td>\n      <td>1.000000</td>\n      <td>0.499900</td>\n      <td>14999.000000</td>\n    </tr>\n    <tr>\n      <th>25%</th>\n      <td>-121.790000</td>\n      <td>33.930000</td>\n      <td>18.000000</td>\n      <td>1462.000000</td>\n      <td>297.000000</td>\n      <td>790.000000</td>\n      <td>282.000000</td>\n      <td>2.566375</td>\n      <td>119400.000000</td>\n    </tr>\n    <tr>\n      <th>50%</th>\n      <td>-118.490000</td>\n      <td>34.250000</td>\n      <td>29.000000</td>\n      <td>2127.000000</td>\n      <td>434.000000</td>\n      <td>1167.000000</td>\n      <td>409.000000</td>\n      <td>3.544600</td>\n      <td>180400.000000</td>\n    </tr>\n    <tr>\n      <th>75%</th>\n      <td>-118.000000</td>\n      <td>37.720000</td>\n      <td>37.000000</td>\n      <td>3151.250000</td>\n      <td>648.250000</td>\n      <td>1721.000000</td>\n      <td>605.250000</td>\n      <td>4.767000</td>\n      <td>265000.000000</td>\n    </tr>\n    <tr>\n      <th>max</th>\n      <td>-114.310000</td>\n      <td>41.950000</td>\n      <td>52.000000</td>\n      <td>37937.000000</td>\n      <td>6445.000000</td>\n      <td>35682.000000</td>\n      <td>6082.000000</td>\n      <td>15.000100</td>\n      <td>500001.000000</td>\n    </tr>\n  </tbody>\n</table>\n</div>",
      "text/plain": "          longitude      latitude  housing_median_age   total_rooms  \\\ncount  17000.000000  17000.000000        17000.000000  17000.000000   \nmean    -119.562108     35.625225           28.589353   2643.664412   \nstd        2.005166      2.137340           12.586937   2179.947071   \nmin     -124.350000     32.540000            1.000000      2.000000   \n25%     -121.790000     33.930000           18.000000   1462.000000   \n50%     -118.490000     34.250000           29.000000   2127.000000   \n75%     -118.000000     37.720000           37.000000   3151.250000   \nmax     -114.310000     41.950000           52.000000  37937.000000   \n\n       total_bedrooms    population    households  median_income  \\\ncount    17000.000000  17000.000000  17000.000000   17000.000000   \nmean       539.410824   1429.573941    501.221941       3.883578   \nstd        421.499452   1147.852959    384.520841       1.908157   \nmin          1.000000      3.000000      1.000000       0.499900   \n25%        297.000000    790.000000    282.000000       2.566375   \n50%        434.000000   1167.000000    409.000000       3.544600   \n75%        648.250000   1721.000000    605.250000       4.767000   \nmax       6445.000000  35682.000000   6082.000000      15.000100   \n\n       median_house_value  \ncount        17000.000000  \nmean        207300.912353  \nstd         115983.764387  \nmin          14999.000000  \n25%         119400.000000  \n50%         180400.000000  \n75%         265000.000000  \nmax         500001.000000  "
     },
     "metadata": {},
     "execution_count": 9
    }
   ],
   "source": [
    "california_housing_dataframe = pd.read_csv(\"https://download.mlcc.google.com/mledu-datasets/california_housing_train.csv\", sep=\",\")\n",
    "california_housing_dataframe.describe()\n",
    "#california_housing_dataframe.head()"
   ]
  },
  {
   "cell_type": "code",
   "execution_count": 13,
   "metadata": {},
   "outputs": [
    {
     "output_type": "execute_result",
     "data": {
      "text/html": "<div>\n<style scoped>\n    .dataframe tbody tr th:only-of-type {\n        vertical-align: middle;\n    }\n\n    .dataframe tbody tr th {\n        vertical-align: top;\n    }\n\n    .dataframe thead th {\n        text-align: right;\n    }\n</style>\n<table border=\"1\" class=\"dataframe\">\n  <thead>\n    <tr style=\"text-align: right;\">\n      <th></th>\n      <th>City name</th>\n      <th>Population</th>\n      <th>Area square miles</th>\n      <th>Population density</th>\n    </tr>\n  </thead>\n  <tbody>\n    <tr>\n      <th>0</th>\n      <td>San Francisco</td>\n      <td>852469</td>\n      <td>46.87</td>\n      <td>18187.945381</td>\n    </tr>\n    <tr>\n      <th>1</th>\n      <td>San Jose</td>\n      <td>1015785</td>\n      <td>176.53</td>\n      <td>5754.177760</td>\n    </tr>\n    <tr>\n      <th>2</th>\n      <td>Sacramento</td>\n      <td>485199</td>\n      <td>97.92</td>\n      <td>4955.055147</td>\n    </tr>\n  </tbody>\n</table>\n</div>",
      "text/plain": "       City name  Population  Area square miles  Population density\n0  San Francisco      852469              46.87        18187.945381\n1       San Jose     1015785             176.53         5754.177760\n2     Sacramento      485199              97.92         4955.055147"
     },
     "metadata": {},
     "execution_count": 13
    }
   ],
   "source": [
    "import numpy as np\n",
    "\n",
    "np.log(population)\n",
    "\n",
    "population.apply(lambda val: val > 1000000)\n",
    "cities = pd.DataFrame({ 'City name': city_names, 'Population': population })\n",
    "cities['Area square miles'] = pd.Series([46.87, 176.53, 97.92])\n",
    "cities['Population density'] = cities['Population'] / cities['Area square miles']\n",
    "cities"
   ]
  },
  {
   "cell_type": "code",
   "execution_count": 16,
   "metadata": {},
   "outputs": [
    {
     "output_type": "error",
     "ename": "SyntaxError",
     "evalue": "invalid syntax (<ipython-input-16-7fac20f5ad8e>, line 1)",
     "traceback": [
      "\u001b[0;36m  File \u001b[0;32m\"<ipython-input-16-7fac20f5ad8e>\"\u001b[0;36m, line \u001b[0;32m1\u001b[0m\n\u001b[0;31m    [for i in [1,2,3] lambda a : a * 2]\u001b[0m\n\u001b[0m       ^\u001b[0m\n\u001b[0;31mSyntaxError\u001b[0m\u001b[0;31m:\u001b[0m invalid syntax\n"
     ]
    }
   ],
   "source": []
  }
 ],
 "metadata": {
  "language_info": {
   "codemirror_mode": {
    "name": "ipython",
    "version": 2
   },
   "file_extension": ".py",
   "mimetype": "text/x-python",
   "name": "python",
   "nbconvert_exporter": "python",
   "pygments_lexer": "ipython2",
   "version": "3.7.3-final"
  },
  "orig_nbformat": 2,
  "kernelspec": {
   "name": "python37364bitvenvvenv08c576ef8e81447e96dd28def1513dcb",
   "display_name": "Python 3.7.3 64-bit ('venv': venv)"
  }
 },
 "nbformat": 4,
 "nbformat_minor": 2
}